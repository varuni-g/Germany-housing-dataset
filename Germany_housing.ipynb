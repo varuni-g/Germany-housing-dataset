{
  "nbformat": 4,
  "nbformat_minor": 0,
  "metadata": {
    "colab": {
      "name": "Germany_housing.ipynb",
      "provenance": []
    },
    "kernelspec": {
      "name": "python3",
      "display_name": "Python 3"
    },
    "language_info": {
      "name": "python"
    }
  },
  "cells": [
    {
      "cell_type": "markdown",
      "source": [
        "**Data Science Regression Project: Real Estate dataset**"
      ],
      "metadata": {
        "id": "5LKOu0xPzXrk"
      }
    },
    {
      "cell_type": "code",
      "execution_count": 1,
      "metadata": {
        "id": "Sqw7QYsV6LcW"
      },
      "outputs": [],
      "source": [
        "import numpy as np \n",
        "import pandas as pd \n"
      ]
    },
    {
      "cell_type": "markdown",
      "source": [
        "Data Load: Load Germany housing data into a dataframe"
      ],
      "metadata": {
        "id": "DSJdhmwmz3MM"
      }
    },
    {
      "cell_type": "code",
      "source": [
        "df1 = pd.read_csv(\"germany_housing_data_14.07.2020.csv\")\n",
        "df1.head()"
      ],
      "metadata": {
        "colab": {
          "base_uri": "https://localhost:8080/",
          "height": 403
        },
        "id": "Cf5zcCEO6ciK",
        "outputId": "ba759c63-e152-42b0-c3aa-ebbeca87a83a"
      },
      "execution_count": 2,
      "outputs": [
        {
          "output_type": "execute_result",
          "data": {
            "text/plain": [
              "   Unnamed: 0     Price               Type  Living_space    Lot  Usable_area  \\\n",
              "0           0  498000.0  Multiple dwelling        106.00  229.0          NaN   \n",
              "1           1  495000.0  Mid-terrace house        140.93  517.0        20.00   \n",
              "2           2  749000.0          Farmhouse        162.89   82.0        37.62   \n",
              "3           3  259000.0          Farmhouse        140.00  814.0          NaN   \n",
              "4           4  469000.0  Multiple dwelling        115.00  244.0          NaN   \n",
              "\n",
              "      Free_of_Relation  Rooms  Bedrooms  Bathrooms  ...  \\\n",
              "0          01.10.2020     5.5       3.0        1.0  ...   \n",
              "1          01.01.2021     6.0       3.0        2.0  ...   \n",
              "2          01.07.2020     5.0       3.0        2.0  ...   \n",
              "3   nach Vereinbarung     4.0       NaN        2.0  ...   \n",
              "4              sofort     4.5       2.0        1.0  ...   \n",
              "\n",
              "             Energy_source   Energy_certificate Energy_certificate_type  \\\n",
              "0                     Gas             available      demand certificate   \n",
              "1                      NaN  not required by law                     NaN   \n",
              "2   Fernwärme, Bioenergie             available      demand certificate   \n",
              "3                   Strom             available      demand certificate   \n",
              "4                      Öl             available      demand certificate   \n",
              "\n",
              "   Energy_consumption Energy_efficiency_class              State  \\\n",
              "0                 NaN                      D   Baden-Württemberg   \n",
              "1                 NaN                     NaN  Baden-Württemberg   \n",
              "2                 NaN                      B   Baden-Württemberg   \n",
              "3                 NaN                      G   Baden-Württemberg   \n",
              "4                 NaN                      F   Baden-Württemberg   \n",
              "\n",
              "                City                    Place Garages   Garagetype  \n",
              "0      Bodenseekreis              Bermatingen     2.0  Parking lot  \n",
              "1   Konstanz (Kreis)                    Engen     7.0  Parking lot  \n",
              "2  Esslingen (Kreis)               Ostfildern     1.0       Garage  \n",
              "3   Waldshut (Kreis)  Bonndorf im Schwarzwald     1.0       Garage  \n",
              "4  Esslingen (Kreis)  Leinfelden-Echterdingen     1.0       Garage  \n",
              "\n",
              "[5 rows x 26 columns]"
            ],
            "text/html": [
              "\n",
              "  <div id=\"df-daa93592-02a6-4fa4-abca-3ef949f6919e\">\n",
              "    <div class=\"colab-df-container\">\n",
              "      <div>\n",
              "<style scoped>\n",
              "    .dataframe tbody tr th:only-of-type {\n",
              "        vertical-align: middle;\n",
              "    }\n",
              "\n",
              "    .dataframe tbody tr th {\n",
              "        vertical-align: top;\n",
              "    }\n",
              "\n",
              "    .dataframe thead th {\n",
              "        text-align: right;\n",
              "    }\n",
              "</style>\n",
              "<table border=\"1\" class=\"dataframe\">\n",
              "  <thead>\n",
              "    <tr style=\"text-align: right;\">\n",
              "      <th></th>\n",
              "      <th>Unnamed: 0</th>\n",
              "      <th>Price</th>\n",
              "      <th>Type</th>\n",
              "      <th>Living_space</th>\n",
              "      <th>Lot</th>\n",
              "      <th>Usable_area</th>\n",
              "      <th>Free_of_Relation</th>\n",
              "      <th>Rooms</th>\n",
              "      <th>Bedrooms</th>\n",
              "      <th>Bathrooms</th>\n",
              "      <th>...</th>\n",
              "      <th>Energy_source</th>\n",
              "      <th>Energy_certificate</th>\n",
              "      <th>Energy_certificate_type</th>\n",
              "      <th>Energy_consumption</th>\n",
              "      <th>Energy_efficiency_class</th>\n",
              "      <th>State</th>\n",
              "      <th>City</th>\n",
              "      <th>Place</th>\n",
              "      <th>Garages</th>\n",
              "      <th>Garagetype</th>\n",
              "    </tr>\n",
              "  </thead>\n",
              "  <tbody>\n",
              "    <tr>\n",
              "      <th>0</th>\n",
              "      <td>0</td>\n",
              "      <td>498000.0</td>\n",
              "      <td>Multiple dwelling</td>\n",
              "      <td>106.00</td>\n",
              "      <td>229.0</td>\n",
              "      <td>NaN</td>\n",
              "      <td>01.10.2020</td>\n",
              "      <td>5.5</td>\n",
              "      <td>3.0</td>\n",
              "      <td>1.0</td>\n",
              "      <td>...</td>\n",
              "      <td>Gas</td>\n",
              "      <td>available</td>\n",
              "      <td>demand certificate</td>\n",
              "      <td>NaN</td>\n",
              "      <td>D</td>\n",
              "      <td>Baden-Württemberg</td>\n",
              "      <td>Bodenseekreis</td>\n",
              "      <td>Bermatingen</td>\n",
              "      <td>2.0</td>\n",
              "      <td>Parking lot</td>\n",
              "    </tr>\n",
              "    <tr>\n",
              "      <th>1</th>\n",
              "      <td>1</td>\n",
              "      <td>495000.0</td>\n",
              "      <td>Mid-terrace house</td>\n",
              "      <td>140.93</td>\n",
              "      <td>517.0</td>\n",
              "      <td>20.00</td>\n",
              "      <td>01.01.2021</td>\n",
              "      <td>6.0</td>\n",
              "      <td>3.0</td>\n",
              "      <td>2.0</td>\n",
              "      <td>...</td>\n",
              "      <td>NaN</td>\n",
              "      <td>not required by law</td>\n",
              "      <td>NaN</td>\n",
              "      <td>NaN</td>\n",
              "      <td>NaN</td>\n",
              "      <td>Baden-Württemberg</td>\n",
              "      <td>Konstanz (Kreis)</td>\n",
              "      <td>Engen</td>\n",
              "      <td>7.0</td>\n",
              "      <td>Parking lot</td>\n",
              "    </tr>\n",
              "    <tr>\n",
              "      <th>2</th>\n",
              "      <td>2</td>\n",
              "      <td>749000.0</td>\n",
              "      <td>Farmhouse</td>\n",
              "      <td>162.89</td>\n",
              "      <td>82.0</td>\n",
              "      <td>37.62</td>\n",
              "      <td>01.07.2020</td>\n",
              "      <td>5.0</td>\n",
              "      <td>3.0</td>\n",
              "      <td>2.0</td>\n",
              "      <td>...</td>\n",
              "      <td>Fernwärme, Bioenergie</td>\n",
              "      <td>available</td>\n",
              "      <td>demand certificate</td>\n",
              "      <td>NaN</td>\n",
              "      <td>B</td>\n",
              "      <td>Baden-Württemberg</td>\n",
              "      <td>Esslingen (Kreis)</td>\n",
              "      <td>Ostfildern</td>\n",
              "      <td>1.0</td>\n",
              "      <td>Garage</td>\n",
              "    </tr>\n",
              "    <tr>\n",
              "      <th>3</th>\n",
              "      <td>3</td>\n",
              "      <td>259000.0</td>\n",
              "      <td>Farmhouse</td>\n",
              "      <td>140.00</td>\n",
              "      <td>814.0</td>\n",
              "      <td>NaN</td>\n",
              "      <td>nach Vereinbarung</td>\n",
              "      <td>4.0</td>\n",
              "      <td>NaN</td>\n",
              "      <td>2.0</td>\n",
              "      <td>...</td>\n",
              "      <td>Strom</td>\n",
              "      <td>available</td>\n",
              "      <td>demand certificate</td>\n",
              "      <td>NaN</td>\n",
              "      <td>G</td>\n",
              "      <td>Baden-Württemberg</td>\n",
              "      <td>Waldshut (Kreis)</td>\n",
              "      <td>Bonndorf im Schwarzwald</td>\n",
              "      <td>1.0</td>\n",
              "      <td>Garage</td>\n",
              "    </tr>\n",
              "    <tr>\n",
              "      <th>4</th>\n",
              "      <td>4</td>\n",
              "      <td>469000.0</td>\n",
              "      <td>Multiple dwelling</td>\n",
              "      <td>115.00</td>\n",
              "      <td>244.0</td>\n",
              "      <td>NaN</td>\n",
              "      <td>sofort</td>\n",
              "      <td>4.5</td>\n",
              "      <td>2.0</td>\n",
              "      <td>1.0</td>\n",
              "      <td>...</td>\n",
              "      <td>Öl</td>\n",
              "      <td>available</td>\n",
              "      <td>demand certificate</td>\n",
              "      <td>NaN</td>\n",
              "      <td>F</td>\n",
              "      <td>Baden-Württemberg</td>\n",
              "      <td>Esslingen (Kreis)</td>\n",
              "      <td>Leinfelden-Echterdingen</td>\n",
              "      <td>1.0</td>\n",
              "      <td>Garage</td>\n",
              "    </tr>\n",
              "  </tbody>\n",
              "</table>\n",
              "<p>5 rows × 26 columns</p>\n",
              "</div>\n",
              "      <button class=\"colab-df-convert\" onclick=\"convertToInteractive('df-daa93592-02a6-4fa4-abca-3ef949f6919e')\"\n",
              "              title=\"Convert this dataframe to an interactive table.\"\n",
              "              style=\"display:none;\">\n",
              "        \n",
              "  <svg xmlns=\"http://www.w3.org/2000/svg\" height=\"24px\"viewBox=\"0 0 24 24\"\n",
              "       width=\"24px\">\n",
              "    <path d=\"M0 0h24v24H0V0z\" fill=\"none\"/>\n",
              "    <path d=\"M18.56 5.44l.94 2.06.94-2.06 2.06-.94-2.06-.94-.94-2.06-.94 2.06-2.06.94zm-11 1L8.5 8.5l.94-2.06 2.06-.94-2.06-.94L8.5 2.5l-.94 2.06-2.06.94zm10 10l.94 2.06.94-2.06 2.06-.94-2.06-.94-.94-2.06-.94 2.06-2.06.94z\"/><path d=\"M17.41 7.96l-1.37-1.37c-.4-.4-.92-.59-1.43-.59-.52 0-1.04.2-1.43.59L10.3 9.45l-7.72 7.72c-.78.78-.78 2.05 0 2.83L4 21.41c.39.39.9.59 1.41.59.51 0 1.02-.2 1.41-.59l7.78-7.78 2.81-2.81c.8-.78.8-2.07 0-2.86zM5.41 20L4 18.59l7.72-7.72 1.47 1.35L5.41 20z\"/>\n",
              "  </svg>\n",
              "      </button>\n",
              "      \n",
              "  <style>\n",
              "    .colab-df-container {\n",
              "      display:flex;\n",
              "      flex-wrap:wrap;\n",
              "      gap: 12px;\n",
              "    }\n",
              "\n",
              "    .colab-df-convert {\n",
              "      background-color: #E8F0FE;\n",
              "      border: none;\n",
              "      border-radius: 50%;\n",
              "      cursor: pointer;\n",
              "      display: none;\n",
              "      fill: #1967D2;\n",
              "      height: 32px;\n",
              "      padding: 0 0 0 0;\n",
              "      width: 32px;\n",
              "    }\n",
              "\n",
              "    .colab-df-convert:hover {\n",
              "      background-color: #E2EBFA;\n",
              "      box-shadow: 0px 1px 2px rgba(60, 64, 67, 0.3), 0px 1px 3px 1px rgba(60, 64, 67, 0.15);\n",
              "      fill: #174EA6;\n",
              "    }\n",
              "\n",
              "    [theme=dark] .colab-df-convert {\n",
              "      background-color: #3B4455;\n",
              "      fill: #D2E3FC;\n",
              "    }\n",
              "\n",
              "    [theme=dark] .colab-df-convert:hover {\n",
              "      background-color: #434B5C;\n",
              "      box-shadow: 0px 1px 3px 1px rgba(0, 0, 0, 0.15);\n",
              "      filter: drop-shadow(0px 1px 2px rgba(0, 0, 0, 0.3));\n",
              "      fill: #FFFFFF;\n",
              "    }\n",
              "  </style>\n",
              "\n",
              "      <script>\n",
              "        const buttonEl =\n",
              "          document.querySelector('#df-daa93592-02a6-4fa4-abca-3ef949f6919e button.colab-df-convert');\n",
              "        buttonEl.style.display =\n",
              "          google.colab.kernel.accessAllowed ? 'block' : 'none';\n",
              "\n",
              "        async function convertToInteractive(key) {\n",
              "          const element = document.querySelector('#df-daa93592-02a6-4fa4-abca-3ef949f6919e');\n",
              "          const dataTable =\n",
              "            await google.colab.kernel.invokeFunction('convertToInteractive',\n",
              "                                                     [key], {});\n",
              "          if (!dataTable) return;\n",
              "\n",
              "          const docLinkHtml = 'Like what you see? Visit the ' +\n",
              "            '<a target=\"_blank\" href=https://colab.research.google.com/notebooks/data_table.ipynb>data table notebook</a>'\n",
              "            + ' to learn more about interactive tables.';\n",
              "          element.innerHTML = '';\n",
              "          dataTable['output_type'] = 'display_data';\n",
              "          await google.colab.output.renderOutput(dataTable, element);\n",
              "          const docLink = document.createElement('div');\n",
              "          docLink.innerHTML = docLinkHtml;\n",
              "          element.appendChild(docLink);\n",
              "        }\n",
              "      </script>\n",
              "    </div>\n",
              "  </div>\n",
              "  "
            ]
          },
          "metadata": {},
          "execution_count": 2
        }
      ]
    },
    {
      "cell_type": "code",
      "source": [
        "df1.shape"
      ],
      "metadata": {
        "colab": {
          "base_uri": "https://localhost:8080/"
        },
        "id": "ZIqXMiGD6sZI",
        "outputId": "18e9e429-c976-4506-9000-e20ff4e18854"
      },
      "execution_count": 3,
      "outputs": [
        {
          "output_type": "execute_result",
          "data": {
            "text/plain": [
              "(10552, 26)"
            ]
          },
          "metadata": {},
          "execution_count": 3
        }
      ]
    },
    {
      "cell_type": "code",
      "source": [
        "df1.columns"
      ],
      "metadata": {
        "colab": {
          "base_uri": "https://localhost:8080/"
        },
        "id": "q9LDJMnZ6zPL",
        "outputId": "2b950428-5ae2-47ec-c675-8610757201c1"
      },
      "execution_count": 4,
      "outputs": [
        {
          "output_type": "execute_result",
          "data": {
            "text/plain": [
              "Index(['Unnamed: 0', 'Price', 'Type', 'Living_space', 'Lot', 'Usable_area',\n",
              "       'Free_of_Relation', 'Rooms', 'Bedrooms', 'Bathrooms', 'Floors',\n",
              "       'Year_built', 'Furnishing_quality', 'Year_renovated', 'Condition',\n",
              "       'Heating', 'Energy_source', 'Energy_certificate',\n",
              "       'Energy_certificate_type', 'Energy_consumption',\n",
              "       'Energy_efficiency_class', 'State', 'City', 'Place', 'Garages',\n",
              "       'Garagetype'],\n",
              "      dtype='object')"
            ]
          },
          "metadata": {},
          "execution_count": 4
        }
      ]
    },
    {
      "cell_type": "markdown",
      "source": [
        "Drop features that are not required to build our model"
      ],
      "metadata": {
        "id": "EdlB7z7X0E5Z"
      }
    },
    {
      "cell_type": "code",
      "source": [
        "df2= df1.drop('Unnamed: 0',axis='columns')\n",
        "df2.head()"
      ],
      "metadata": {
        "colab": {
          "base_uri": "https://localhost:8080/",
          "height": 386
        },
        "id": "Xzl0RI6c61Yo",
        "outputId": "6154b526-d971-4839-acf5-8a7676dabce3"
      },
      "execution_count": 5,
      "outputs": [
        {
          "output_type": "execute_result",
          "data": {
            "text/plain": [
              "      Price               Type  Living_space    Lot  Usable_area  \\\n",
              "0  498000.0  Multiple dwelling        106.00  229.0          NaN   \n",
              "1  495000.0  Mid-terrace house        140.93  517.0        20.00   \n",
              "2  749000.0          Farmhouse        162.89   82.0        37.62   \n",
              "3  259000.0          Farmhouse        140.00  814.0          NaN   \n",
              "4  469000.0  Multiple dwelling        115.00  244.0          NaN   \n",
              "\n",
              "      Free_of_Relation  Rooms  Bedrooms  Bathrooms  Floors  ...  \\\n",
              "0          01.10.2020     5.5       3.0        1.0     2.0  ...   \n",
              "1          01.01.2021     6.0       3.0        2.0     NaN  ...   \n",
              "2          01.07.2020     5.0       3.0        2.0     4.0  ...   \n",
              "3   nach Vereinbarung     4.0       NaN        2.0     2.0  ...   \n",
              "4              sofort     4.5       2.0        1.0     NaN  ...   \n",
              "\n",
              "             Energy_source   Energy_certificate  Energy_certificate_type  \\\n",
              "0                     Gas             available       demand certificate   \n",
              "1                      NaN  not required by law                      NaN   \n",
              "2   Fernwärme, Bioenergie             available       demand certificate   \n",
              "3                   Strom             available       demand certificate   \n",
              "4                      Öl             available       demand certificate   \n",
              "\n",
              "  Energy_consumption Energy_efficiency_class              State  \\\n",
              "0                NaN                      D   Baden-Württemberg   \n",
              "1                NaN                     NaN  Baden-Württemberg   \n",
              "2                NaN                      B   Baden-Württemberg   \n",
              "3                NaN                      G   Baden-Württemberg   \n",
              "4                NaN                      F   Baden-Württemberg   \n",
              "\n",
              "                City                    Place  Garages   Garagetype  \n",
              "0      Bodenseekreis              Bermatingen      2.0  Parking lot  \n",
              "1   Konstanz (Kreis)                    Engen      7.0  Parking lot  \n",
              "2  Esslingen (Kreis)               Ostfildern      1.0       Garage  \n",
              "3   Waldshut (Kreis)  Bonndorf im Schwarzwald      1.0       Garage  \n",
              "4  Esslingen (Kreis)  Leinfelden-Echterdingen      1.0       Garage  \n",
              "\n",
              "[5 rows x 25 columns]"
            ],
            "text/html": [
              "\n",
              "  <div id=\"df-6dea22a1-f009-4103-9e17-f8f9a7113022\">\n",
              "    <div class=\"colab-df-container\">\n",
              "      <div>\n",
              "<style scoped>\n",
              "    .dataframe tbody tr th:only-of-type {\n",
              "        vertical-align: middle;\n",
              "    }\n",
              "\n",
              "    .dataframe tbody tr th {\n",
              "        vertical-align: top;\n",
              "    }\n",
              "\n",
              "    .dataframe thead th {\n",
              "        text-align: right;\n",
              "    }\n",
              "</style>\n",
              "<table border=\"1\" class=\"dataframe\">\n",
              "  <thead>\n",
              "    <tr style=\"text-align: right;\">\n",
              "      <th></th>\n",
              "      <th>Price</th>\n",
              "      <th>Type</th>\n",
              "      <th>Living_space</th>\n",
              "      <th>Lot</th>\n",
              "      <th>Usable_area</th>\n",
              "      <th>Free_of_Relation</th>\n",
              "      <th>Rooms</th>\n",
              "      <th>Bedrooms</th>\n",
              "      <th>Bathrooms</th>\n",
              "      <th>Floors</th>\n",
              "      <th>...</th>\n",
              "      <th>Energy_source</th>\n",
              "      <th>Energy_certificate</th>\n",
              "      <th>Energy_certificate_type</th>\n",
              "      <th>Energy_consumption</th>\n",
              "      <th>Energy_efficiency_class</th>\n",
              "      <th>State</th>\n",
              "      <th>City</th>\n",
              "      <th>Place</th>\n",
              "      <th>Garages</th>\n",
              "      <th>Garagetype</th>\n",
              "    </tr>\n",
              "  </thead>\n",
              "  <tbody>\n",
              "    <tr>\n",
              "      <th>0</th>\n",
              "      <td>498000.0</td>\n",
              "      <td>Multiple dwelling</td>\n",
              "      <td>106.00</td>\n",
              "      <td>229.0</td>\n",
              "      <td>NaN</td>\n",
              "      <td>01.10.2020</td>\n",
              "      <td>5.5</td>\n",
              "      <td>3.0</td>\n",
              "      <td>1.0</td>\n",
              "      <td>2.0</td>\n",
              "      <td>...</td>\n",
              "      <td>Gas</td>\n",
              "      <td>available</td>\n",
              "      <td>demand certificate</td>\n",
              "      <td>NaN</td>\n",
              "      <td>D</td>\n",
              "      <td>Baden-Württemberg</td>\n",
              "      <td>Bodenseekreis</td>\n",
              "      <td>Bermatingen</td>\n",
              "      <td>2.0</td>\n",
              "      <td>Parking lot</td>\n",
              "    </tr>\n",
              "    <tr>\n",
              "      <th>1</th>\n",
              "      <td>495000.0</td>\n",
              "      <td>Mid-terrace house</td>\n",
              "      <td>140.93</td>\n",
              "      <td>517.0</td>\n",
              "      <td>20.00</td>\n",
              "      <td>01.01.2021</td>\n",
              "      <td>6.0</td>\n",
              "      <td>3.0</td>\n",
              "      <td>2.0</td>\n",
              "      <td>NaN</td>\n",
              "      <td>...</td>\n",
              "      <td>NaN</td>\n",
              "      <td>not required by law</td>\n",
              "      <td>NaN</td>\n",
              "      <td>NaN</td>\n",
              "      <td>NaN</td>\n",
              "      <td>Baden-Württemberg</td>\n",
              "      <td>Konstanz (Kreis)</td>\n",
              "      <td>Engen</td>\n",
              "      <td>7.0</td>\n",
              "      <td>Parking lot</td>\n",
              "    </tr>\n",
              "    <tr>\n",
              "      <th>2</th>\n",
              "      <td>749000.0</td>\n",
              "      <td>Farmhouse</td>\n",
              "      <td>162.89</td>\n",
              "      <td>82.0</td>\n",
              "      <td>37.62</td>\n",
              "      <td>01.07.2020</td>\n",
              "      <td>5.0</td>\n",
              "      <td>3.0</td>\n",
              "      <td>2.0</td>\n",
              "      <td>4.0</td>\n",
              "      <td>...</td>\n",
              "      <td>Fernwärme, Bioenergie</td>\n",
              "      <td>available</td>\n",
              "      <td>demand certificate</td>\n",
              "      <td>NaN</td>\n",
              "      <td>B</td>\n",
              "      <td>Baden-Württemberg</td>\n",
              "      <td>Esslingen (Kreis)</td>\n",
              "      <td>Ostfildern</td>\n",
              "      <td>1.0</td>\n",
              "      <td>Garage</td>\n",
              "    </tr>\n",
              "    <tr>\n",
              "      <th>3</th>\n",
              "      <td>259000.0</td>\n",
              "      <td>Farmhouse</td>\n",
              "      <td>140.00</td>\n",
              "      <td>814.0</td>\n",
              "      <td>NaN</td>\n",
              "      <td>nach Vereinbarung</td>\n",
              "      <td>4.0</td>\n",
              "      <td>NaN</td>\n",
              "      <td>2.0</td>\n",
              "      <td>2.0</td>\n",
              "      <td>...</td>\n",
              "      <td>Strom</td>\n",
              "      <td>available</td>\n",
              "      <td>demand certificate</td>\n",
              "      <td>NaN</td>\n",
              "      <td>G</td>\n",
              "      <td>Baden-Württemberg</td>\n",
              "      <td>Waldshut (Kreis)</td>\n",
              "      <td>Bonndorf im Schwarzwald</td>\n",
              "      <td>1.0</td>\n",
              "      <td>Garage</td>\n",
              "    </tr>\n",
              "    <tr>\n",
              "      <th>4</th>\n",
              "      <td>469000.0</td>\n",
              "      <td>Multiple dwelling</td>\n",
              "      <td>115.00</td>\n",
              "      <td>244.0</td>\n",
              "      <td>NaN</td>\n",
              "      <td>sofort</td>\n",
              "      <td>4.5</td>\n",
              "      <td>2.0</td>\n",
              "      <td>1.0</td>\n",
              "      <td>NaN</td>\n",
              "      <td>...</td>\n",
              "      <td>Öl</td>\n",
              "      <td>available</td>\n",
              "      <td>demand certificate</td>\n",
              "      <td>NaN</td>\n",
              "      <td>F</td>\n",
              "      <td>Baden-Württemberg</td>\n",
              "      <td>Esslingen (Kreis)</td>\n",
              "      <td>Leinfelden-Echterdingen</td>\n",
              "      <td>1.0</td>\n",
              "      <td>Garage</td>\n",
              "    </tr>\n",
              "  </tbody>\n",
              "</table>\n",
              "<p>5 rows × 25 columns</p>\n",
              "</div>\n",
              "      <button class=\"colab-df-convert\" onclick=\"convertToInteractive('df-6dea22a1-f009-4103-9e17-f8f9a7113022')\"\n",
              "              title=\"Convert this dataframe to an interactive table.\"\n",
              "              style=\"display:none;\">\n",
              "        \n",
              "  <svg xmlns=\"http://www.w3.org/2000/svg\" height=\"24px\"viewBox=\"0 0 24 24\"\n",
              "       width=\"24px\">\n",
              "    <path d=\"M0 0h24v24H0V0z\" fill=\"none\"/>\n",
              "    <path d=\"M18.56 5.44l.94 2.06.94-2.06 2.06-.94-2.06-.94-.94-2.06-.94 2.06-2.06.94zm-11 1L8.5 8.5l.94-2.06 2.06-.94-2.06-.94L8.5 2.5l-.94 2.06-2.06.94zm10 10l.94 2.06.94-2.06 2.06-.94-2.06-.94-.94-2.06-.94 2.06-2.06.94z\"/><path d=\"M17.41 7.96l-1.37-1.37c-.4-.4-.92-.59-1.43-.59-.52 0-1.04.2-1.43.59L10.3 9.45l-7.72 7.72c-.78.78-.78 2.05 0 2.83L4 21.41c.39.39.9.59 1.41.59.51 0 1.02-.2 1.41-.59l7.78-7.78 2.81-2.81c.8-.78.8-2.07 0-2.86zM5.41 20L4 18.59l7.72-7.72 1.47 1.35L5.41 20z\"/>\n",
              "  </svg>\n",
              "      </button>\n",
              "      \n",
              "  <style>\n",
              "    .colab-df-container {\n",
              "      display:flex;\n",
              "      flex-wrap:wrap;\n",
              "      gap: 12px;\n",
              "    }\n",
              "\n",
              "    .colab-df-convert {\n",
              "      background-color: #E8F0FE;\n",
              "      border: none;\n",
              "      border-radius: 50%;\n",
              "      cursor: pointer;\n",
              "      display: none;\n",
              "      fill: #1967D2;\n",
              "      height: 32px;\n",
              "      padding: 0 0 0 0;\n",
              "      width: 32px;\n",
              "    }\n",
              "\n",
              "    .colab-df-convert:hover {\n",
              "      background-color: #E2EBFA;\n",
              "      box-shadow: 0px 1px 2px rgba(60, 64, 67, 0.3), 0px 1px 3px 1px rgba(60, 64, 67, 0.15);\n",
              "      fill: #174EA6;\n",
              "    }\n",
              "\n",
              "    [theme=dark] .colab-df-convert {\n",
              "      background-color: #3B4455;\n",
              "      fill: #D2E3FC;\n",
              "    }\n",
              "\n",
              "    [theme=dark] .colab-df-convert:hover {\n",
              "      background-color: #434B5C;\n",
              "      box-shadow: 0px 1px 3px 1px rgba(0, 0, 0, 0.15);\n",
              "      filter: drop-shadow(0px 1px 2px rgba(0, 0, 0, 0.3));\n",
              "      fill: #FFFFFF;\n",
              "    }\n",
              "  </style>\n",
              "\n",
              "      <script>\n",
              "        const buttonEl =\n",
              "          document.querySelector('#df-6dea22a1-f009-4103-9e17-f8f9a7113022 button.colab-df-convert');\n",
              "        buttonEl.style.display =\n",
              "          google.colab.kernel.accessAllowed ? 'block' : 'none';\n",
              "\n",
              "        async function convertToInteractive(key) {\n",
              "          const element = document.querySelector('#df-6dea22a1-f009-4103-9e17-f8f9a7113022');\n",
              "          const dataTable =\n",
              "            await google.colab.kernel.invokeFunction('convertToInteractive',\n",
              "                                                     [key], {});\n",
              "          if (!dataTable) return;\n",
              "\n",
              "          const docLinkHtml = 'Like what you see? Visit the ' +\n",
              "            '<a target=\"_blank\" href=https://colab.research.google.com/notebooks/data_table.ipynb>data table notebook</a>'\n",
              "            + ' to learn more about interactive tables.';\n",
              "          element.innerHTML = '';\n",
              "          dataTable['output_type'] = 'display_data';\n",
              "          await google.colab.output.renderOutput(dataTable, element);\n",
              "          const docLink = document.createElement('div');\n",
              "          docLink.innerHTML = docLinkHtml;\n",
              "          element.appendChild(docLink);\n",
              "        }\n",
              "      </script>\n",
              "    </div>\n",
              "  </div>\n",
              "  "
            ]
          },
          "metadata": {},
          "execution_count": 5
        }
      ]
    },
    {
      "cell_type": "markdown",
      "source": [
        "Data Cleaning: Handle NA values"
      ],
      "metadata": {
        "id": "12rFfMZ40ICx"
      }
    },
    {
      "cell_type": "code",
      "source": [
        "df2.isna().sum()"
      ],
      "metadata": {
        "colab": {
          "base_uri": "https://localhost:8080/"
        },
        "id": "T9p-TQah63q8",
        "outputId": "cff401a8-d444-4823-895e-16ee1037c2b4"
      },
      "execution_count": 6,
      "outputs": [
        {
          "output_type": "execute_result",
          "data": {
            "text/plain": [
              "Price                         0\n",
              "Type                        402\n",
              "Living_space                  0\n",
              "Lot                           0\n",
              "Usable_area                4984\n",
              "Free_of_Relation           3569\n",
              "Rooms                         0\n",
              "Bedrooms                   3674\n",
              "Bathrooms                  1801\n",
              "Floors                     2664\n",
              "Year_built                  694\n",
              "Furnishing_quality         2726\n",
              "Year_renovated             5203\n",
              "Condition                   323\n",
              "Heating                     584\n",
              "Energy_source              1227\n",
              "Energy_certificate          755\n",
              "Energy_certificate_type    3526\n",
              "Energy_consumption         8119\n",
              "Energy_efficiency_class    4819\n",
              "State                         1\n",
              "City                          1\n",
              "Place                       290\n",
              "Garages                    1960\n",
              "Garagetype                 1960\n",
              "dtype: int64"
            ]
          },
          "metadata": {},
          "execution_count": 6
        }
      ]
    },
    {
      "cell_type": "code",
      "source": [
        "col_to_fill_zero = ['Usable_area', 'Free_of_Relation', 'Bedrooms', 'Bathrooms', 'Floors', 'Furnishing_quality', 'Year_renovated', 'Energy_source', 'Energy_certificate_type', 'Energy_consumption', 'Energy_efficiency_class']\n",
        "\n",
        "df2[col_to_fill_zero] = df2[col_to_fill_zero].fillna(0)"
      ],
      "metadata": {
        "id": "ebnliT6a7A2v"
      },
      "execution_count": 7,
      "outputs": []
    },
    {
      "cell_type": "code",
      "source": [
        "df2.isna().sum()"
      ],
      "metadata": {
        "colab": {
          "base_uri": "https://localhost:8080/"
        },
        "id": "mgJQUbwl7gx2",
        "outputId": "0218c2e9-c731-431f-b74a-765caf5054e9"
      },
      "execution_count": 8,
      "outputs": [
        {
          "output_type": "execute_result",
          "data": {
            "text/plain": [
              "Price                         0\n",
              "Type                        402\n",
              "Living_space                  0\n",
              "Lot                           0\n",
              "Usable_area                   0\n",
              "Free_of_Relation              0\n",
              "Rooms                         0\n",
              "Bedrooms                      0\n",
              "Bathrooms                     0\n",
              "Floors                        0\n",
              "Year_built                  694\n",
              "Furnishing_quality            0\n",
              "Year_renovated                0\n",
              "Condition                   323\n",
              "Heating                     584\n",
              "Energy_source                 0\n",
              "Energy_certificate          755\n",
              "Energy_certificate_type       0\n",
              "Energy_consumption            0\n",
              "Energy_efficiency_class       0\n",
              "State                         1\n",
              "City                          1\n",
              "Place                       290\n",
              "Garages                    1960\n",
              "Garagetype                 1960\n",
              "dtype: int64"
            ]
          },
          "metadata": {},
          "execution_count": 8
        }
      ]
    },
    {
      "cell_type": "code",
      "source": [
        "df2['Year_built'] = df2['Year_built'].fillna(df2.Year_built.mean())\n",
        "df2['Garages'] = df2['Garages'].fillna(df2.Garages.mean())"
      ],
      "metadata": {
        "id": "KdiyrVHx7o5B"
      },
      "execution_count": 9,
      "outputs": []
    },
    {
      "cell_type": "code",
      "source": [
        "df2.isna().sum()"
      ],
      "metadata": {
        "colab": {
          "base_uri": "https://localhost:8080/"
        },
        "id": "utJyG-pV7zkT",
        "outputId": "f8be3752-4860-46ff-c693-f2af49097a75"
      },
      "execution_count": 10,
      "outputs": [
        {
          "output_type": "execute_result",
          "data": {
            "text/plain": [
              "Price                         0\n",
              "Type                        402\n",
              "Living_space                  0\n",
              "Lot                           0\n",
              "Usable_area                   0\n",
              "Free_of_Relation              0\n",
              "Rooms                         0\n",
              "Bedrooms                      0\n",
              "Bathrooms                     0\n",
              "Floors                        0\n",
              "Year_built                    0\n",
              "Furnishing_quality            0\n",
              "Year_renovated                0\n",
              "Condition                   323\n",
              "Heating                     584\n",
              "Energy_source                 0\n",
              "Energy_certificate          755\n",
              "Energy_certificate_type       0\n",
              "Energy_consumption            0\n",
              "Energy_efficiency_class       0\n",
              "State                         1\n",
              "City                          1\n",
              "Place                       290\n",
              "Garages                       0\n",
              "Garagetype                 1960\n",
              "dtype: int64"
            ]
          },
          "metadata": {},
          "execution_count": 10
        }
      ]
    },
    {
      "cell_type": "code",
      "source": [
        "df2.dropna(inplace=True)"
      ],
      "metadata": {
        "id": "lWPcfLP372Ri"
      },
      "execution_count": 11,
      "outputs": []
    },
    {
      "cell_type": "code",
      "source": [
        "df2.isna().sum()"
      ],
      "metadata": {
        "colab": {
          "base_uri": "https://localhost:8080/"
        },
        "id": "x4kb8H09788w",
        "outputId": "9a112869-3243-4bd1-f980-ae9539b9af1e"
      },
      "execution_count": 12,
      "outputs": [
        {
          "output_type": "execute_result",
          "data": {
            "text/plain": [
              "Price                      0\n",
              "Type                       0\n",
              "Living_space               0\n",
              "Lot                        0\n",
              "Usable_area                0\n",
              "Free_of_Relation           0\n",
              "Rooms                      0\n",
              "Bedrooms                   0\n",
              "Bathrooms                  0\n",
              "Floors                     0\n",
              "Year_built                 0\n",
              "Furnishing_quality         0\n",
              "Year_renovated             0\n",
              "Condition                  0\n",
              "Heating                    0\n",
              "Energy_source              0\n",
              "Energy_certificate         0\n",
              "Energy_certificate_type    0\n",
              "Energy_consumption         0\n",
              "Energy_efficiency_class    0\n",
              "State                      0\n",
              "City                       0\n",
              "Place                      0\n",
              "Garages                    0\n",
              "Garagetype                 0\n",
              "dtype: int64"
            ]
          },
          "metadata": {},
          "execution_count": 12
        }
      ]
    },
    {
      "cell_type": "markdown",
      "source": [
        "Using One Hot Encoding"
      ],
      "metadata": {
        "id": "TNjbvb7Z0iV6"
      }
    },
    {
      "cell_type": "code",
      "source": [
        "df2 = pd.get_dummies(df2, drop_first=True)"
      ],
      "metadata": {
        "id": "elqWWYdH8Dhl"
      },
      "execution_count": 13,
      "outputs": []
    },
    {
      "cell_type": "code",
      "source": [
        "X = df2.drop('Price', axis = 'columns')\n",
        "y = df2.Price"
      ],
      "metadata": {
        "id": "w-SwX_md8IkO"
      },
      "execution_count": 14,
      "outputs": []
    },
    {
      "cell_type": "markdown",
      "source": [
        "Building model"
      ],
      "metadata": {
        "id": "fSlFwM8s0okT"
      }
    },
    {
      "cell_type": "code",
      "source": [
        "from sklearn.model_selection import train_test_split\n",
        "X_train, X_test, y_train, y_test = train_test_split(X, y, test_size=0.3)"
      ],
      "metadata": {
        "id": "b8QnKxXI8W_Q"
      },
      "execution_count": 15,
      "outputs": []
    },
    {
      "cell_type": "code",
      "source": [
        "from sklearn.linear_model import LinearRegression\n",
        "model = LinearRegression()\n",
        "model.fit(X_train, y_train)\n",
        "y_predict = model.predict(X_test)"
      ],
      "metadata": {
        "id": "jp0bPH198abH"
      },
      "execution_count": 16,
      "outputs": []
    },
    {
      "cell_type": "code",
      "source": [
        "model.score(X_train, y_train)"
      ],
      "metadata": {
        "colab": {
          "base_uri": "https://localhost:8080/"
        },
        "id": "a5TZKwoO8daX",
        "outputId": "c22ea0de-7f5d-4f2d-b5d8-965f5f720e18"
      },
      "execution_count": 17,
      "outputs": [
        {
          "output_type": "execute_result",
          "data": {
            "text/plain": [
              "0.9448529177064652"
            ]
          },
          "metadata": {},
          "execution_count": 17
        }
      ]
    },
    {
      "cell_type": "markdown",
      "source": [
        "Saving as a Pickle file"
      ],
      "metadata": {
        "id": "F4mThOSs0vWa"
      }
    },
    {
      "cell_type": "code",
      "source": [
        "import pickle\n",
        "with open('Germany_housing.pickle','wb') as f:\n",
        "    pickle.dump(model,f)"
      ],
      "metadata": {
        "id": "joSa6eazKV4v"
      },
      "execution_count": 18,
      "outputs": []
    },
    {
      "cell_type": "code",
      "source": [
        ""
      ],
      "metadata": {
        "id": "zdCMQsvA1LY2"
      },
      "execution_count": null,
      "outputs": []
    }
  ]
}